{
 "cells": [
  {
   "cell_type": "code",
   "execution_count": 1,
   "metadata": {},
   "outputs": [],
   "source": [
    "from random import randint\n",
    "from time import strftime\n",
    "from flask import Flask, render_template, flash, request, Response\n",
    "from wtforms import Form, TextField, TextAreaField, validators, StringField, SubmitField\n",
    "\n",
    "# plotting\n",
    "import json\n",
    "import plotly\n",
    "import plotly.graph_objs as go"
   ]
  },
  {
   "cell_type": "code",
   "execution_count": 2,
   "metadata": {},
   "outputs": [],
   "source": [
    "def posterior(specificity=0.95, sensitivity=0.97, prevalence=0.005, threshold=0.5):\n",
    "    \n",
    "    p_user = prevalence\n",
    "    p_non_user = 1-prevalence\n",
    "    p_pos_user = sensitivity\n",
    "    p_neg_user = specificity\n",
    "    p_pos_non_user = 1-specificity\n",
    "    \n",
    "    \n",
    "    num = p_pos_user*p_user\n",
    "    den = p_pos_user*p_user+p_pos_non_user*p_non_user\n",
    "    \n",
    "    \n",
    "    prob = num/den\n",
    "\n",
    "    return prob"
   ]
  },
  {
   "cell_type": "code",
   "execution_count": 4,
   "metadata": {},
   "outputs": [],
   "source": [
    "probs=[]\n",
    "prevs=[]\n",
    "for prev in [i*0.001 for i in range(1,51,2)]:\n",
    "    prevs.append(prev*100)\n",
    "    prob = posterior(sensitivity=0.95,specificity=0.97,prevalence=prev, threshold=0.5)\n",
    "    probs.append(prob)\n",
    "\n",
    "data = [\n",
    "    go.Bar(\n",
    "        x=prevs,\n",
    "        y=probs\n",
    "    )\n",
    "]\n",
    "\n",
    "graph = json.dumps(data, cls=plotly.utils.PlotlyJSONEncoder)"
   ]
  },
  {
   "cell_type": "code",
   "execution_count": 10,
   "metadata": {},
   "outputs": [
    {
     "data": {
      "text/plain": [
       "'[{\"x\": [0.1, 0.3, 0.5, 0.7000000000000001, 0.9000000000000001, 1.0999999999999999, 1.3, 1.5, 1.7000000000000002, 1.9, 2.1, 2.3, 2.5, 2.7, 2.9000000000000004, 3.1, 3.3000000000000003, 3.5000000000000004, 3.6999999999999997, 3.9, 4.1000000000000005, 4.300000000000001, 4.5, 4.7, 4.9], \"y\": [0.03072445019404913, 0.08699633699633694, 0.13728323699421954, 0.1824917672886936, 0.22335423197492146, 0.2604685942173478, 0.2943279313632029, 0.32534246575342446, 0.35385626643295337, 0.3801600673967985, 0.404501216545012, 0.42709147771696615, 0.4481132075471696, 0.46772428884026235, 0.4860621030345799, 0.5032467532467529, 0.5193836978131211, 0.5345659163987136, 0.5488757026858212, 0.5623861566484515, 0.5751624335499111, 0.5872627947096031, 0.5987394957983191, 0.6096395412342979, 0.620005327650506], \"type\": \"bar\"}]'"
      ]
     },
     "execution_count": 10,
     "metadata": {},
     "output_type": "execute_result"
    }
   ],
   "source": [
    "graph"
   ]
  },
  {
   "cell_type": "code",
   "execution_count": 18,
   "metadata": {},
   "outputs": [
    {
     "name": "stdout",
     "output_type": "stream",
     "text": [
      "0\n",
      "1\n",
      "2\n"
     ]
    }
   ],
   "source": [
    "for i in range(3):\n",
    "    print(i)"
   ]
  },
  {
   "cell_type": "code",
   "execution_count": null,
   "metadata": {},
   "outputs": [],
   "source": []
  },
  {
   "cell_type": "code",
   "execution_count": null,
   "metadata": {},
   "outputs": [],
   "source": []
  }
 ],
 "metadata": {
  "kernelspec": {
   "display_name": "Python 3",
   "language": "python",
   "name": "python3"
  },
  "language_info": {
   "codemirror_mode": {
    "name": "ipython",
    "version": 3
   },
   "file_extension": ".py",
   "mimetype": "text/x-python",
   "name": "python",
   "nbconvert_exporter": "python",
   "pygments_lexer": "ipython3",
   "version": "3.7.4"
  }
 },
 "nbformat": 4,
 "nbformat_minor": 2
}
